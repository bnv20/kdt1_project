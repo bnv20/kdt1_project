{
 "cells": [
  {
   "cell_type": "code",
   "execution_count": 1,
   "metadata": {},
   "outputs": [],
   "source": [
    "import numpy as np\n",
    "import pandas as pd\n",
    "import matplotlib.pyplot as plt\n",
    "import matplotlib\n",
    "import seaborn as sns\n",
    "import warnings\n",
    "warnings.filterwarnings('ignore')\n",
    "from sklearn.model_selection import train_test_split\n",
    "from sklearn.linear_model import LinearRegression\n",
    "from sklearn.metrics import mean_squared_error , r2_score\n",
    "from sklearn.ensemble import RandomForestRegressor\n",
    "from sklearn.model_selection import cross_val_score\n",
    "from sklearn.linear_model import Ridge\n",
    "from sklearn.linear_model import Lasso, ElasticNet\n",
    "from sklearn.model_selection import GridSearchCV\n",
    "from xgboost import XGBRegressor\n",
    "from lightgbm import LGBMRegressor\n",
    "from sklearn.metrics import mean_absolute_error\n",
    "from sklearn.ensemble import GradientBoostingRegressor"
   ]
  },
  {
   "cell_type": "code",
   "execution_count": 2,
   "metadata": {},
   "outputs": [],
   "source": [
    "df_all=pd.read_csv('fifa_0315.csv')"
   ]
  },
  {
   "cell_type": "code",
   "execution_count": 3,
   "metadata": {},
   "outputs": [],
   "source": [
    "df2=df_all[['Wage','Rich_Club','Overall','Real_Face']]\n",
    "df2.Wage=np.log1p(df2.Wage)"
   ]
  },
  {
   "cell_type": "code",
   "execution_count": 5,
   "metadata": {},
   "outputs": [
    {
     "data": {
      "text/plain": [
       "<AxesSubplot:>"
      ]
     },
     "execution_count": 5,
     "metadata": {},
     "output_type": "execute_result"
    },
    {
     "data": {
      "image/png": "[encoded data removed]",
      "text/plain": [
       "<Figure size 432x288 with 2 Axes>"
      ]
     },
     "metadata": {
      "needs_background": "light"
     },
     "output_type": "display_data"
    }
   ],
   "source": [
    "sns.heatmap(df2.corr(),linewidths=.8, annot=True, cmap='RdBu') "
   ]
  },
  {
   "cell_type": "markdown",
   "metadata": {},
   "source": [
    "# 다중공선성 파악하는 방법\n",
    "[VIF = Variance inflation Factors 분산 팽창요인]\n",
    "\n",
    "- 안전 : vif <5 \n",
    "- 주의 : 5<vif<10 \n",
    "- 위험: 10<vif"
   ]
  },
  {
   "cell_type": "code",
   "execution_count": 6,
   "metadata": {},
   "outputs": [
    {
     "data": {
      "text/html": [
       "<div>\n",
       "<style scoped>\n",
       "    .dataframe tbody tr th:only-of-type {\n",
       "        vertical-align: middle;\n",
       "    }\n",
       "\n",
       "    .dataframe tbody tr th {\n",
       "        vertical-align: top;\n",
       "    }\n",
       "\n",
       "    .dataframe thead th {\n",
       "        text-align: right;\n",
       "    }\n",
       "</style>\n",
       "<table border=\"1\" class=\"dataframe\">\n",
       "  <thead>\n",
       "    <tr style=\"text-align: right;\">\n",
       "      <th></th>\n",
       "      <th>vif factor</th>\n",
       "      <th>features</th>\n",
       "    </tr>\n",
       "  </thead>\n",
       "  <tbody>\n",
       "    <tr>\n",
       "      <th>0</th>\n",
       "      <td>11.343893</td>\n",
       "      <td>Wage</td>\n",
       "    </tr>\n",
       "    <tr>\n",
       "      <th>1</th>\n",
       "      <td>6.006552</td>\n",
       "      <td>Rich_Club</td>\n",
       "    </tr>\n",
       "    <tr>\n",
       "      <th>2</th>\n",
       "      <td>5.641655</td>\n",
       "      <td>Overall</td>\n",
       "    </tr>\n",
       "    <tr>\n",
       "      <th>3</th>\n",
       "      <td>1.455218</td>\n",
       "      <td>Real_Face</td>\n",
       "    </tr>\n",
       "  </tbody>\n",
       "</table>\n",
       "</div>"
      ],
      "text/plain": [
       "   vif factor   features\n",
       "0   11.343893       Wage\n",
       "1    6.006552  Rich_Club\n",
       "2    5.641655    Overall\n",
       "3    1.455218  Real_Face"
      ]
     },
     "execution_count": 6,
     "metadata": {},
     "output_type": "execute_result"
    }
   ],
   "source": [
    "from statsmodels.stats.outliers_influence import variance_inflation_factor\n",
    "vif = pd.DataFrame()\n",
    "vif['vif factor'] = [variance_inflation_factor(df2.values, i) \n",
    "                     for i in range(df2.shape[1])]\n",
    "vif['features']=df2.columns\n",
    "vif"
   ]
  },
  {
   "cell_type": "code",
   "execution_count": 11,
   "metadata": {},
   "outputs": [],
   "source": [
    "# 범주화 -> 원핫인코딩\n",
    "df2.Real_Face = df2.Real_Face.astype('str')\n",
    "df2.Rich_Club = df2.Rich_Club.astype('str')"
   ]
  },
  {
   "cell_type": "code",
   "execution_count": 12,
   "metadata": {},
   "outputs": [],
   "source": [
    "df_o=pd.get_dummies(df2)"
   ]
  },
  {
   "cell_type": "markdown",
   "metadata": {},
   "source": [
    "# 파라미터 구하기"
   ]
  },
  {
   "cell_type": "code",
   "execution_count": 13,
   "metadata": {},
   "outputs": [
    {
     "name": "stdout",
     "output_type": "stream",
     "text": [
      "MSE: 0.19, RMSE: 0.44, r2 score: 0.82\n"
     ]
    }
   ],
   "source": [
    "X= df_o.drop(['Wage'],axis = 1)\n",
    "y= df_o['Wage']\n",
    "X_train, X_test, y_train, y_test = train_test_split(X, y,test_size=0.2, random_state=156)\n",
    "# 단순 회귀 분석 모형 생성 및 평가\n",
    "lr = LinearRegression()\n",
    "lr.fit(X_train, y_train)\n",
    "pred= lr.predict(X_test)\n",
    "mse = mean_squared_error(y_test,pred)\n",
    "rmse = np.sqrt(mse)\n",
    "r2 = r2_score(y_test,pred) # r_square = lr.score(X_test, y_test)도 같은 값\n",
    "\n",
    "print('MSE: {0:.2f}, RMSE: {1:.2f}, r2 score: {2:.2f}'.format(mse, rmse,r2))"
   ]
  },
  {
   "cell_type": "code",
   "execution_count": 14,
   "metadata": {},
   "outputs": [
    {
     "name": "stdout",
     "output_type": "stream",
     "text": [
      "Ridge 5 CV 시 최적 평균 RMSE 값: 0.5187467528581936, 최적 alpha:{'alpha': 0.001}\n",
      "Lasso 5 CV 시 최적 평균 RMSE 값: 0.5205515077724435, 최적 alpha:{'alpha': 0.001}\n"
     ]
    }
   ],
   "source": [
    "params = {'alpha':[0.001,0.005,0.01,0.05,0.1,0.5,1,5,10,12,15]}\n",
    "\n",
    "lr = LinearRegression()\n",
    "rd = Ridge()\n",
    "ls = Lasso()\n",
    "\n",
    "models = [rd,ls]\n",
    "for model in models:\n",
    "    grid = GridSearchCV(model, param_grid = params, cv=5, scoring = 'neg_mean_squared_error')\n",
    "    grid.fit(X,y)\n",
    "    rmse = np.sqrt(-1*grid.best_score_)\n",
    "    print('{0} 5 CV 시 최적 평균 RMSE 값: {1}, 최적 alpha:{2}'.format(model.__class__.__name__,rmse, grid.best_params_))"
   ]
  },
  {
   "cell_type": "code",
   "execution_count": 16,
   "metadata": {},
   "outputs": [
    {
     "data": {
      "text/plain": [
       "<matplotlib.axes._subplots.AxesSubplot at 0x2bb1036b520>"
      ]
     },
     "execution_count": 16,
     "metadata": {},
     "output_type": "execute_result"
    },
    {
     "data": {
      "image/png": "[encoded data removed]",
      "text/plain": [
       "<Figure size 576x576 with 1 Axes>"
      ]
     },
     "metadata": {
      "needs_background": "light"
     },
     "output_type": "display_data"
    }
   ],
   "source": [
    "plt.figure(figsize=(8,8))\n",
    "lr = LinearRegression()\n",
    "lr.fit(X_train, y_train)\n",
    "coef = pd.Series(lr.coef_, index=X.columns)\n",
    "coef_sort = coef.sort_values(ascending=False)[:5]\n",
    "sns.barplot(x=coef_sort.values, y = coef_sort.index)"
   ]
  },
  {
   "cell_type": "code",
   "execution_count": 17,
   "metadata": {},
   "outputs": [
    {
     "data": {
      "text/plain": [
       "<matplotlib.axes._subplots.AxesSubplot at 0x2bb1678bca0>"
      ]
     },
     "execution_count": 17,
     "metadata": {},
     "output_type": "execute_result"
    },
    {
     "data": {
      "image/png": "[encoded data removed]",
      "text/plain": [
       "<Figure size 576x576 with 1 Axes>"
      ]
     },
     "metadata": {
      "needs_background": "light"
     },
     "output_type": "display_data"
    }
   ],
   "source": [
    "rd = Ridge(0.001)\n",
    "rd.fit(X_train, y_train)\n",
    "plt.figure(figsize=(8,8))\n",
    "coef = pd.Series(rd.coef_, index=X.columns)\n",
    "coef_sort = coef.sort_values(ascending=False)[:5]\n",
    "sns.barplot(x=coef_sort.values, y = coef_sort.index)"
   ]
  },
  {
   "cell_type": "code",
   "execution_count": 18,
   "metadata": {},
   "outputs": [
    {
     "name": "stdout",
     "output_type": "stream",
     "text": [
      "MSE: 0.19, RMSE: 0.44, r2 score: 0.82\n"
     ]
    }
   ],
   "source": [
    "rd_pred= rd.predict(X_test)\n",
    "mse = mean_squared_error(y_test,rd_pred)\n",
    "rmse = np.sqrt(mse)\n",
    "r2 = r2_score(y_test,rd_pred) # r_square = lr.score(X_test, y_test)도 같은 값\n",
    "\n",
    "print('MSE: {0:.2f}, RMSE: {1:.2f}, r2 score: {2:.2f}'.format(mse, rmse,r2))"
   ]
  },
  {
   "cell_type": "code",
   "execution_count": 20,
   "metadata": {},
   "outputs": [
    {
     "data": {
      "text/plain": [
       "<matplotlib.axes._subplots.AxesSubplot at 0x2bb18e60b20>"
      ]
     },
     "execution_count": 20,
     "metadata": {},
     "output_type": "execute_result"
    },
    {
     "data": {
      "image/png": "[encoded data removed]",
      "text/plain": [
       "<Figure size 576x576 with 1 Axes>"
      ]
     },
     "metadata": {
      "needs_background": "light"
     },
     "output_type": "display_data"
    }
   ],
   "source": [
    "ls = Lasso(0.001)\n",
    "ls.fit(X_train, y_train)\n",
    "plt.figure(figsize=(8,8))\n",
    "coef = pd.Series(ls.coef_, index=X.columns)\n",
    "coef_sort = coef.sort_values(ascending=False)[:5]\n",
    "sns.barplot(x=coef_sort.values, y = coef_sort.index)"
   ]
  },
  {
   "cell_type": "code",
   "execution_count": 21,
   "metadata": {},
   "outputs": [
    {
     "name": "stdout",
     "output_type": "stream",
     "text": [
      "MSE: 0.19, RMSE: 0.44, r2 score: 0.82\n"
     ]
    }
   ],
   "source": [
    "ls_pred= ls.predict(X_test)\n",
    "mse = mean_squared_error(y_test,ls_pred)\n",
    "rmse = np.sqrt(mse)\n",
    "r2 = r2_score(y_test,ls_pred) # r_square = lr.score(X_test, y_test)도 같은 값\n",
    "\n",
    "print('MSE: {0:.2f}, RMSE: {1:.2f}, r2 score: {2:.2f}'.format(mse, rmse,r2))"
   ]
  },
  {
   "cell_type": "code",
   "execution_count": 23,
   "metadata": {},
   "outputs": [
    {
     "name": "stdout",
     "output_type": "stream",
     "text": [
      "MSE: 0.12, RMSE: 0.35, r2 score: 0.88\n"
     ]
    }
   ],
   "source": [
    "rf_reg=RandomForestRegressor(n_estimators=1000,criterion='mse').fit(X_train,y_train)\n",
    "rf_pred = rf_reg.predict(X_test)\n",
    "mse = mean_squared_error(y_test,rf_pred)\n",
    "rmse = np.sqrt(mse)\n",
    "r2 = r2_score(y_test,rf_pred) # r_square = lr.score(X_test, y_test)도 같은 값\n",
    "\n",
    "print('MSE: {0:.2f}, RMSE: {1:.2f}, r2 score: {2:.2f}'.format(mse, rmse,r2))\n"
   ]
  },
  {
   "cell_type": "code",
   "execution_count": 24,
   "metadata": {},
   "outputs": [
    {
     "data": {
      "text/plain": [
       "<matplotlib.axes._subplots.AxesSubplot at 0x2bb1906ab50>"
      ]
     },
     "execution_count": 24,
     "metadata": {},
     "output_type": "execute_result"
    },
    {
     "data": {
      "image/png": "[encoded data removed]",
      "text/plain": [
       "<Figure size 576x576 with 1 Axes>"
      ]
     },
     "metadata": {
      "needs_background": "light"
     },
     "output_type": "display_data"
    }
   ],
   "source": [
    "plt.figure(figsize=(8,8))\n",
    "coef = pd.Series(data=rf_reg.feature_importances_, index=X.columns)\n",
    "coef_sort = coef.sort_values(ascending=False)[:5]\n",
    "sns.barplot(x=coef_sort.values, y = coef_sort.index)"
   ]
  },
  {
   "cell_type": "code",
   "execution_count": 25,
   "metadata": {},
   "outputs": [],
   "source": [
    "def get_best_params(model, params):\n",
    "    grid_model = GridSearchCV(model, param_grid=params, \n",
    "                              scoring='neg_mean_squared_error', cv=5)\n",
    "    grid_model.fit(X_train, y_train)\n",
    "    rmse = np.sqrt(-1* grid_model.best_score_)\n",
    "    print('{0} 5 CV 시 최적 평균 RMSE 값: {1}, 최적 alpha:{2}'.format(model.__class__.__name__,\n",
    "                                                              np.round(rmse, 4), grid_model.best_params_))\n",
    "    return grid_model.best_estimator_"
   ]
  },
  {
   "cell_type": "code",
   "execution_count": 26,
   "metadata": {},
   "outputs": [],
   "source": [
    "params = {'n_estimators':[800,1000, 1200]}\n",
    "\n",
    "xgb_reg = XGBRegressor(n_estimators=1000, learning_rate=0.05, \n",
    "                       colsample_bytree=0.5, subsample=0.8)\n",
    "lgbm_reg = LGBMRegressor(n_estimators=1000, learning_rate=0.05, num_leaves=4, \n",
    "                         subsample=0.6, colsample_bytree=0.4, reg_lambda=10, n_jobs=-1)"
   ]
  },
  {
   "cell_type": "code",
   "execution_count": 27,
   "metadata": {},
   "outputs": [
    {
     "name": "stdout",
     "output_type": "stream",
     "text": [
      "XGBRegressor 5 CV 시 최적 평균 RMSE 값: 0.3473, 최적 alpha:{'n_estimators': 800}\n",
      "LGBMRegressor 5 CV 시 최적 평균 RMSE 값: 0.3461, 최적 alpha:{'n_estimators': 1200}\n",
      "XGBRegressor MSE: 0.12,RMSE: 0.34, r2 score: 0.88 \n",
      "LGBMRegressor MSE: 0.12,RMSE: 0.35, r2 score: 0.88 \n"
     ]
    }
   ],
   "source": [
    "# best estimator 사용\n",
    "best_xgb = get_best_params(xgb_reg, params)\n",
    "best_lgbm = get_best_params(lgbm_reg, params)\n",
    "models = [best_xgb,best_lgbm]\n",
    "for model in models:\n",
    "    pred = model.predict(X_test)\n",
    "    mse = mean_squared_error(y_test, pred)\n",
    "    rmse = np.sqrt(mse)\n",
    "    r2 = r2_score(y_test,pred)\n",
    "    print(model.__class__.__name__, 'MSE: {0:.2f},RMSE: {1:.2f}, r2 score: {2:.2f} '.format(mse, rmse,r2))"
   ]
  },
  {
   "cell_type": "code",
   "execution_count": 28,
   "metadata": {},
   "outputs": [],
   "source": [
    "def get_top_features(model):\n",
    "    ftr_importances_values = model.feature_importances_\n",
    "    ftr_importances = pd.Series(ftr_importances_values, index=X.columns  )\n",
    "    ftr_top5 = ftr_importances.sort_values(ascending=False)[:5]\n",
    "    return ftr_top5\n",
    "def visualize_ftr_importances(models):\n",
    "    plt.figure(figsize=(8,8))\n",
    "    ftr_top5 = get_top_features(model)\n",
    "    sns.barplot(x=ftr_top5.values, y=ftr_top5.index)"
   ]
  },
  {
   "cell_type": "code",
   "execution_count": 29,
   "metadata": {},
   "outputs": [
    {
     "data": {
      "image/png": "[encoded data removed]",
      "text/plain": [
       "<Figure size 576x576 with 1 Axes>"
      ]
     },
     "metadata": {
      "needs_background": "light"
     },
     "output_type": "display_data"
    }
   ],
   "source": [
    "visualize_ftr_importances(best_xgb)"
   ]
  },
  {
   "cell_type": "code",
   "execution_count": 30,
   "metadata": {},
   "outputs": [
    {
     "data": {
      "image/png": "[encoded data removed]",
      "text/plain": [
       "<Figure size 576x576 with 1 Axes>"
      ]
     },
     "metadata": {
      "needs_background": "light"
     },
     "output_type": "display_data"
    }
   ],
   "source": [
    "visualize_ftr_importances(best_lgbm)"
   ]
  },
  {
   "cell_type": "code",
   "execution_count": null,
   "metadata": {},
   "outputs": [],
   "source": []
  },
  {
   "cell_type": "code",
   "execution_count": null,
   "metadata": {},
   "outputs": [],
   "source": []
  },
  {
   "cell_type": "code",
   "execution_count": null,
   "metadata": {},
   "outputs": [],
   "source": []
  },
  {
   "cell_type": "code",
   "execution_count": null,
   "metadata": {},
   "outputs": [],
   "source": []
  }
 ],
 "metadata": {
  "kernelspec": {
   "display_name": "Python 3",
   "language": "python",
   "name": "python3"
  },
  "language_info": {
   "codemirror_mode": {
    "name": "ipython",
    "version": 3
   },
   "file_extension": ".py",
   "mimetype": "text/x-python",
   "name": "python",
   "nbconvert_exporter": "python",
   "pygments_lexer": "ipython3",
   "version": "3.7.9"
  }
 },
 "nbformat": 4,
 "nbformat_minor": 4
}
